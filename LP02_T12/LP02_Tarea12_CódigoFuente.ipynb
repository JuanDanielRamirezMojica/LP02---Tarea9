{
  "nbformat": 4,
  "nbformat_minor": 0,
  "metadata": {
    "colab": {
      "provenance": []
    },
    "kernelspec": {
      "name": "python3",
      "display_name": "Python 3"
    },
    "language_info": {
      "name": "python"
    }
  },
  "cells": [
    {
      "cell_type": "markdown",
      "source": [
        "# **Instalar librerías**"
      ],
      "metadata": {
        "id": "l2PARvU6ALCV"
      }
    },
    {
      "cell_type": "code",
      "execution_count": 1,
      "metadata": {
        "colab": {
          "base_uri": "https://localhost:8080/"
        },
        "id": "iUz2L3GW8qcT",
        "outputId": "abbfd1d2-b0a7-4c20-e15f-ff4a0c01805c"
      },
      "outputs": [
        {
          "output_type": "stream",
          "name": "stdout",
          "text": [
            "Collecting qiskit\n",
            "  Downloading qiskit-1.2.4-cp38-abi3-manylinux_2_17_x86_64.manylinux2014_x86_64.whl.metadata (12 kB)\n",
            "Collecting qiskit-ibm-runtime\n",
            "  Downloading qiskit_ibm_runtime-0.33.2-py3-none-any.whl.metadata (19 kB)\n",
            "Collecting rustworkx>=0.15.0 (from qiskit)\n",
            "  Downloading rustworkx-0.15.1-cp38-abi3-manylinux_2_17_x86_64.manylinux2014_x86_64.whl.metadata (9.9 kB)\n",
            "Requirement already satisfied: numpy<3,>=1.17 in /usr/local/lib/python3.10/dist-packages (from qiskit) (1.26.4)\n",
            "Requirement already satisfied: scipy>=1.5 in /usr/local/lib/python3.10/dist-packages (from qiskit) (1.13.1)\n",
            "Requirement already satisfied: sympy>=1.3 in /usr/local/lib/python3.10/dist-packages (from qiskit) (1.13.1)\n",
            "Collecting dill>=0.3 (from qiskit)\n",
            "  Downloading dill-0.3.9-py3-none-any.whl.metadata (10 kB)\n",
            "Requirement already satisfied: python-dateutil>=2.8.0 in /usr/local/lib/python3.10/dist-packages (from qiskit) (2.8.2)\n",
            "Collecting stevedore>=3.0.0 (from qiskit)\n",
            "  Downloading stevedore-5.4.0-py3-none-any.whl.metadata (2.3 kB)\n",
            "Requirement already satisfied: typing-extensions in /usr/local/lib/python3.10/dist-packages (from qiskit) (4.12.2)\n",
            "Collecting symengine<0.14,>=0.11 (from qiskit)\n",
            "  Downloading symengine-0.13.0-cp310-cp310-manylinux_2_17_x86_64.manylinux2014_x86_64.whl.metadata (1.2 kB)\n",
            "Requirement already satisfied: requests>=2.19 in /usr/local/lib/python3.10/dist-packages (from qiskit-ibm-runtime) (2.32.3)\n",
            "Collecting requests-ntlm>=1.1.0 (from qiskit-ibm-runtime)\n",
            "  Downloading requests_ntlm-1.3.0-py3-none-any.whl.metadata (2.4 kB)\n",
            "Requirement already satisfied: urllib3>=1.21.1 in /usr/local/lib/python3.10/dist-packages (from qiskit-ibm-runtime) (2.2.3)\n",
            "Requirement already satisfied: websocket-client>=1.5.1 in /usr/local/lib/python3.10/dist-packages (from qiskit-ibm-runtime) (1.8.0)\n",
            "Collecting ibm-platform-services>=0.22.6 (from qiskit-ibm-runtime)\n",
            "  Downloading ibm_platform_services-0.59.0-py3-none-any.whl.metadata (9.0 kB)\n",
            "Requirement already satisfied: pydantic>=2.5.0 in /usr/local/lib/python3.10/dist-packages (from qiskit-ibm-runtime) (2.9.2)\n",
            "Collecting ibm-cloud-sdk-core<4.0.0,>=3.22.0 (from ibm-platform-services>=0.22.6->qiskit-ibm-runtime)\n",
            "  Downloading ibm_cloud_sdk_core-3.22.0-py3-none-any.whl.metadata (8.6 kB)\n",
            "Requirement already satisfied: annotated-types>=0.6.0 in /usr/local/lib/python3.10/dist-packages (from pydantic>=2.5.0->qiskit-ibm-runtime) (0.7.0)\n",
            "Requirement already satisfied: pydantic-core==2.23.4 in /usr/local/lib/python3.10/dist-packages (from pydantic>=2.5.0->qiskit-ibm-runtime) (2.23.4)\n",
            "Requirement already satisfied: six>=1.5 in /usr/local/lib/python3.10/dist-packages (from python-dateutil>=2.8.0->qiskit) (1.16.0)\n",
            "Requirement already satisfied: charset-normalizer<4,>=2 in /usr/local/lib/python3.10/dist-packages (from requests>=2.19->qiskit-ibm-runtime) (3.4.0)\n",
            "Requirement already satisfied: idna<4,>=2.5 in /usr/local/lib/python3.10/dist-packages (from requests>=2.19->qiskit-ibm-runtime) (3.10)\n",
            "Requirement already satisfied: certifi>=2017.4.17 in /usr/local/lib/python3.10/dist-packages (from requests>=2.19->qiskit-ibm-runtime) (2024.8.30)\n",
            "Requirement already satisfied: cryptography>=1.3 in /usr/local/lib/python3.10/dist-packages (from requests-ntlm>=1.1.0->qiskit-ibm-runtime) (43.0.3)\n",
            "Collecting pyspnego>=0.4.0 (from requests-ntlm>=1.1.0->qiskit-ibm-runtime)\n",
            "  Downloading pyspnego-0.11.2-py3-none-any.whl.metadata (5.4 kB)\n",
            "Collecting pbr>=2.0.0 (from stevedore>=3.0.0->qiskit)\n",
            "  Downloading pbr-6.1.0-py2.py3-none-any.whl.metadata (3.4 kB)\n",
            "Requirement already satisfied: mpmath<1.4,>=1.1.0 in /usr/local/lib/python3.10/dist-packages (from sympy>=1.3->qiskit) (1.3.0)\n",
            "Requirement already satisfied: cffi>=1.12 in /usr/local/lib/python3.10/dist-packages (from cryptography>=1.3->requests-ntlm>=1.1.0->qiskit-ibm-runtime) (1.17.1)\n",
            "Requirement already satisfied: PyJWT<3.0.0,>=2.8.0 in /usr/local/lib/python3.10/dist-packages (from ibm-cloud-sdk-core<4.0.0,>=3.22.0->ibm-platform-services>=0.22.6->qiskit-ibm-runtime) (2.10.0)\n",
            "Requirement already satisfied: pycparser in /usr/local/lib/python3.10/dist-packages (from cffi>=1.12->cryptography>=1.3->requests-ntlm>=1.1.0->qiskit-ibm-runtime) (2.22)\n",
            "Downloading qiskit-1.2.4-cp38-abi3-manylinux_2_17_x86_64.manylinux2014_x86_64.whl (4.8 MB)\n",
            "\u001b[2K   \u001b[90m━━━━━━━━━━━━━━━━━━━━━━━━━━━━━━━━━━━━━━━━\u001b[0m \u001b[32m4.8/4.8 MB\u001b[0m \u001b[31m33.3 MB/s\u001b[0m eta \u001b[36m0:00:00\u001b[0m\n",
            "\u001b[?25hDownloading qiskit_ibm_runtime-0.33.2-py3-none-any.whl (2.9 MB)\n",
            "\u001b[2K   \u001b[90m━━━━━━━━━━━━━━━━━━━━━━━━━━━━━━━━━━━━━━━━\u001b[0m \u001b[32m2.9/2.9 MB\u001b[0m \u001b[31m54.7 MB/s\u001b[0m eta \u001b[36m0:00:00\u001b[0m\n",
            "\u001b[?25hDownloading dill-0.3.9-py3-none-any.whl (119 kB)\n",
            "\u001b[2K   \u001b[90m━━━━━━━━━━━━━━━━━━━━━━━━━━━━━━━━━━━━━━━━\u001b[0m \u001b[32m119.4/119.4 kB\u001b[0m \u001b[31m7.8 MB/s\u001b[0m eta \u001b[36m0:00:00\u001b[0m\n",
            "\u001b[?25hDownloading ibm_platform_services-0.59.0-py3-none-any.whl (340 kB)\n",
            "\u001b[2K   \u001b[90m━━━━━━━━━━━━━━━━━━━━━━━━━━━━━━━━━━━━━━━━\u001b[0m \u001b[32m340.8/340.8 kB\u001b[0m \u001b[31m24.2 MB/s\u001b[0m eta \u001b[36m0:00:00\u001b[0m\n",
            "\u001b[?25hDownloading requests_ntlm-1.3.0-py3-none-any.whl (6.6 kB)\n",
            "Downloading rustworkx-0.15.1-cp38-abi3-manylinux_2_17_x86_64.manylinux2014_x86_64.whl (2.0 MB)\n",
            "\u001b[2K   \u001b[90m━━━━━━━━━━━━━━━━━━━━━━━━━━━━━━━━━━━━━━━━\u001b[0m \u001b[32m2.0/2.0 MB\u001b[0m \u001b[31m30.0 MB/s\u001b[0m eta \u001b[36m0:00:00\u001b[0m\n",
            "\u001b[?25hDownloading stevedore-5.4.0-py3-none-any.whl (49 kB)\n",
            "\u001b[2K   \u001b[90m━━━━━━━━━━━━━━━━━━━━━━━━━━━━━━━━━━━━━━━━\u001b[0m \u001b[32m49.5/49.5 kB\u001b[0m \u001b[31m3.7 MB/s\u001b[0m eta \u001b[36m0:00:00\u001b[0m\n",
            "\u001b[?25hDownloading symengine-0.13.0-cp310-cp310-manylinux_2_17_x86_64.manylinux2014_x86_64.whl (49.7 MB)\n",
            "\u001b[2K   \u001b[90m━━━━━━━━━━━━━━━━━━━━━━━━━━━━━━━━━━━━━━━━\u001b[0m \u001b[32m49.7/49.7 MB\u001b[0m \u001b[31m18.7 MB/s\u001b[0m eta \u001b[36m0:00:00\u001b[0m\n",
            "\u001b[?25hDownloading ibm_cloud_sdk_core-3.22.0-py3-none-any.whl (69 kB)\n",
            "\u001b[2K   \u001b[90m━━━━━━━━━━━━━━━━━━━━━━━━━━━━━━━━━━━━━━━━\u001b[0m \u001b[32m69.4/69.4 kB\u001b[0m \u001b[31m5.4 MB/s\u001b[0m eta \u001b[36m0:00:00\u001b[0m\n",
            "\u001b[?25hDownloading pbr-6.1.0-py2.py3-none-any.whl (108 kB)\n",
            "\u001b[2K   \u001b[90m━━━━━━━━━━━━━━━━━━━━━━━━━━━━━━━━━━━━━━━━\u001b[0m \u001b[32m108.5/108.5 kB\u001b[0m \u001b[31m8.9 MB/s\u001b[0m eta \u001b[36m0:00:00\u001b[0m\n",
            "\u001b[?25hDownloading pyspnego-0.11.2-py3-none-any.whl (130 kB)\n",
            "\u001b[2K   \u001b[90m━━━━━━━━━━━━━━━━━━━━━━━━━━━━━━━━━━━━━━━━\u001b[0m \u001b[32m130.5/130.5 kB\u001b[0m \u001b[31m11.1 MB/s\u001b[0m eta \u001b[36m0:00:00\u001b[0m\n",
            "\u001b[?25hInstalling collected packages: symengine, rustworkx, pbr, dill, stevedore, ibm-cloud-sdk-core, qiskit, pyspnego, ibm-platform-services, requests-ntlm, qiskit-ibm-runtime\n",
            "Successfully installed dill-0.3.9 ibm-cloud-sdk-core-3.22.0 ibm-platform-services-0.59.0 pbr-6.1.0 pyspnego-0.11.2 qiskit-1.2.4 qiskit-ibm-runtime-0.33.2 requests-ntlm-1.3.0 rustworkx-0.15.1 stevedore-5.4.0 symengine-0.13.0\n"
          ]
        }
      ],
      "source": [
        "%pip install qiskit qiskit-ibm-runtime"
      ]
    },
    {
      "cell_type": "code",
      "source": [
        "from qiskit_ibm_runtime import QiskitRuntimeService\n",
        "\n",
        "service = QiskitRuntimeService(channel=\"ibm_quantum\", token=\"INGRESA TU TOKEN\")\n",
        ""
      ],
      "metadata": {
        "id": "hcmwKdtl83_G"
      },
      "execution_count": 2,
      "outputs": []
    },
    {
      "cell_type": "code",
      "source": [
        "from qiskit_ibm_runtime import QiskitRuntimeService\n",
        "\n",
        "# Save an IBM Quantum account and set it as your default account.\n",
        "QiskitRuntimeService.save_account(\n",
        "    channel=\"ibm_quantum\",\n",
        "    token=\"INGRESA TU TOKEN\",\n",
        "    set_as_default=True,\n",
        "    # Use `overwrite=True` if you're updating your token.\n",
        "    overwrite=True,\n",
        ")\n",
        "\n",
        "# Load saved credentials\n",
        "service = QiskitRuntimeService()"
      ],
      "metadata": {
        "id": "-PovTIM39HU_"
      },
      "execution_count": 3,
      "outputs": []
    },
    {
      "cell_type": "code",
      "source": [
        "from qiskit import QuantumCircuit\n",
        "from qiskit_ibm_runtime import QiskitRuntimeService, SamplerV2 as Sampler\n",
        "\n",
        "# Create empty circuit\n",
        "example_circuit = QuantumCircuit(2)\n",
        "example_circuit.measure_all()\n",
        "\n",
        "# You'll need to specify the credentials when initializing QiskitRuntimeService, if they were not previously saved.\n",
        "service = QiskitRuntimeService()\n",
        "backend = service.least_busy(operational=True, simulator=False)\n",
        "\n",
        "sampler = Sampler(backend)\n",
        "job = sampler.run([example_circuit])\n",
        "print(f\"job id: {job.job_id()}\")\n",
        "result = job.result()\n",
        "print(result)"
      ],
      "metadata": {
        "colab": {
          "base_uri": "https://localhost:8080/"
        },
        "id": "hiPolWEI9C5n",
        "outputId": "ea81080c-17c6-4286-b371-68e236cc4d36"
      },
      "execution_count": 4,
      "outputs": [
        {
          "output_type": "stream",
          "name": "stdout",
          "text": [
            "job id: cx1xf8xtpsjg0086g1e0\n",
            "PrimitiveResult([SamplerPubResult(data=DataBin(meas=BitArray(<shape=(), num_shots=4096, num_bits=2>)), metadata={'circuit_metadata': {}})], metadata={'execution': {'execution_spans': ExecutionSpans([SliceSpan(<start='2024-11-25 01:49:29', stop='2024-11-25 01:49:54', size=4096>)])}, 'version': 2})\n"
          ]
        }
      ]
    },
    {
      "cell_type": "code",
      "source": [
        "#Confrimar que si esté conectado\n",
        "from qiskit_ibm_runtime import QiskitRuntimeService\n",
        "\n",
        "service = QiskitRuntimeService()\n",
        "service"
      ],
      "metadata": {
        "colab": {
          "base_uri": "https://localhost:8080/"
        },
        "id": "5U4M2uoY-bNk",
        "outputId": "cf3f3870-0e5f-4c0c-95f6-fea506300f7a"
      },
      "execution_count": 5,
      "outputs": [
        {
          "output_type": "execute_result",
          "data": {
            "text/plain": [
              "<QiskitRuntimeService>"
            ]
          },
          "metadata": {},
          "execution_count": 5
        }
      ]
    },
    {
      "cell_type": "code",
      "source": [
        "from qiskit import transpile"
      ],
      "metadata": {
        "id": "i4fiVwuCAD64"
      },
      "execution_count": 8,
      "outputs": []
    },
    {
      "cell_type": "code",
      "source": [
        "pip install qiskit-aer"
      ],
      "metadata": {
        "colab": {
          "base_uri": "https://localhost:8080/"
        },
        "id": "N0fuTvhyAPf-",
        "outputId": "d2fc2bd0-b966-471e-87de-2c73a12fa6f5"
      },
      "execution_count": 7,
      "outputs": [
        {
          "output_type": "stream",
          "name": "stdout",
          "text": [
            "Collecting qiskit-aer\n",
            "  Downloading qiskit_aer-0.15.1-cp310-cp310-manylinux_2_17_x86_64.manylinux2014_x86_64.whl.metadata (8.0 kB)\n",
            "Requirement already satisfied: qiskit>=1.1.0 in /usr/local/lib/python3.10/dist-packages (from qiskit-aer) (1.2.4)\n",
            "Requirement already satisfied: numpy>=1.16.3 in /usr/local/lib/python3.10/dist-packages (from qiskit-aer) (1.26.4)\n",
            "Requirement already satisfied: scipy>=1.0 in /usr/local/lib/python3.10/dist-packages (from qiskit-aer) (1.13.1)\n",
            "Requirement already satisfied: psutil>=5 in /usr/local/lib/python3.10/dist-packages (from qiskit-aer) (5.9.5)\n",
            "Requirement already satisfied: rustworkx>=0.15.0 in /usr/local/lib/python3.10/dist-packages (from qiskit>=1.1.0->qiskit-aer) (0.15.1)\n",
            "Requirement already satisfied: sympy>=1.3 in /usr/local/lib/python3.10/dist-packages (from qiskit>=1.1.0->qiskit-aer) (1.13.1)\n",
            "Requirement already satisfied: dill>=0.3 in /usr/local/lib/python3.10/dist-packages (from qiskit>=1.1.0->qiskit-aer) (0.3.9)\n",
            "Requirement already satisfied: python-dateutil>=2.8.0 in /usr/local/lib/python3.10/dist-packages (from qiskit>=1.1.0->qiskit-aer) (2.8.2)\n",
            "Requirement already satisfied: stevedore>=3.0.0 in /usr/local/lib/python3.10/dist-packages (from qiskit>=1.1.0->qiskit-aer) (5.4.0)\n",
            "Requirement already satisfied: typing-extensions in /usr/local/lib/python3.10/dist-packages (from qiskit>=1.1.0->qiskit-aer) (4.12.2)\n",
            "Requirement already satisfied: symengine<0.14,>=0.11 in /usr/local/lib/python3.10/dist-packages (from qiskit>=1.1.0->qiskit-aer) (0.13.0)\n",
            "Requirement already satisfied: six>=1.5 in /usr/local/lib/python3.10/dist-packages (from python-dateutil>=2.8.0->qiskit>=1.1.0->qiskit-aer) (1.16.0)\n",
            "Requirement already satisfied: pbr>=2.0.0 in /usr/local/lib/python3.10/dist-packages (from stevedore>=3.0.0->qiskit>=1.1.0->qiskit-aer) (6.1.0)\n",
            "Requirement already satisfied: mpmath<1.4,>=1.1.0 in /usr/local/lib/python3.10/dist-packages (from sympy>=1.3->qiskit>=1.1.0->qiskit-aer) (1.3.0)\n",
            "Downloading qiskit_aer-0.15.1-cp310-cp310-manylinux_2_17_x86_64.manylinux2014_x86_64.whl (12.3 MB)\n",
            "\u001b[2K   \u001b[90m━━━━━━━━━━━━━━━━━━━━━━━━━━━━━━━━━━━━━━━━\u001b[0m \u001b[32m12.3/12.3 MB\u001b[0m \u001b[31m57.8 MB/s\u001b[0m eta \u001b[36m0:00:00\u001b[0m\n",
            "\u001b[?25hInstalling collected packages: qiskit-aer\n",
            "Successfully installed qiskit-aer-0.15.1\n"
          ]
        }
      ]
    },
    {
      "cell_type": "markdown",
      "source": [
        "# **Primer escenario: Marcar el estado |111> con 3 qubits**"
      ],
      "metadata": {
        "id": "9DPwuLS4BYQq"
      }
    },
    {
      "cell_type": "code",
      "source": [
        "from qiskit import QuantumCircuit\n",
        "from qiskit_aer import Aer\n",
        "from qiskit import transpile\n",
        "from qiskit.visualization import plot_histogram\n",
        "\n",
        "# Crear un circuito cuántico con 3 qubits\n",
        "n = 3\n",
        "qc = QuantumCircuit(n)\n",
        "\n",
        "# Inicializar el estado de superposición\n",
        "qc.h(range(n))  # Aplicar la puerta Hadamard a todos los qubits\n",
        "\n",
        "# Crear un oráculo cuántico que marca el estado |111>\n",
        "oracle = QuantumCircuit(n)\n",
        "\n",
        "# Aplicar una puerta Z controlada al último qubit por los primeros dos qubits\n",
        "oracle.h(2)  # Cambiar el último qubit a la base Z\n",
        "oracle.ccx(0, 1, 2)  # Puerta Toffoli controlada por los dos primeros qubits\n",
        "oracle.h(2)  # Volver a la base estándar\n",
        "\n",
        "# Aplicar el oráculo al circuito principal\n",
        "qc.append(oracle, range(n))\n",
        "\n",
        "# Aplicar la inversión sobre la media (operador de Grover)\n",
        "qc.h(range(n))\n",
        "qc.x(range(n))  # Aplica NOT a todos los qubits\n",
        "qc.h(n-1)       # Hadamard al último qubit\n",
        "qc.mcx(list(range(n-1)), n-1)  # Puerta multi-controlada\n",
        "qc.h(n-1)       # Deshacer Hadamard al último qubit\n",
        "qc.x(range(n))  # Deshacer NOT a todos los qubits\n",
        "qc.h(range(n))\n",
        "\n",
        "#Medir los resultados\n",
        "qc.measure_all()\n",
        "\n",
        "# Mostrar el circuito\n",
        "print(qc)\n",
        "\n",
        "# Transpile el circuito para el backend\n",
        "backend = Aer.get_backend('qasm_simulator')\n",
        "transpiled_circuit = transpile(qc, backend)\n",
        "\n",
        "# Ejecutar el circuito\n",
        "job = backend.run(transpiled_circuit, shots=1024)\n",
        "\n",
        "# Obtener los resultados\n",
        "result = job.result()\n",
        "counts = result.get_counts()\n",
        "\n",
        "# Mostrar los resultados\n",
        "plot_histogram(counts)\n"
      ],
      "metadata": {
        "colab": {
          "base_uri": "https://localhost:8080/",
          "height": 602
        },
        "id": "ShGbBPD0DpX9",
        "outputId": "ec4e2570-893f-4018-bd4a-6e686ab97ae8"
      },
      "execution_count": 12,
      "outputs": [
        {
          "output_type": "stream",
          "name": "stdout",
          "text": [
            "        ┌───┐┌──────────────┐┌───┐┌───┐          ┌───┐┌───┐      ░ ┌─┐      \n",
            "   q_0: ┤ H ├┤0             ├┤ H ├┤ X ├───────■──┤ X ├┤ H ├──────░─┤M├──────\n",
            "        ├───┤│              │├───┤├───┤       │  ├───┤├───┤      ░ └╥┘┌─┐   \n",
            "   q_1: ┤ H ├┤1 circuit-183 ├┤ H ├┤ X ├───────■──┤ X ├┤ H ├──────░──╫─┤M├───\n",
            "        ├───┤│              │├───┤├───┤┌───┐┌─┴─┐├───┤├───┤┌───┐ ░  ║ └╥┘┌─┐\n",
            "   q_2: ┤ H ├┤2             ├┤ H ├┤ X ├┤ H ├┤ X ├┤ H ├┤ X ├┤ H ├─░──╫──╫─┤M├\n",
            "        └───┘└──────────────┘└───┘└───┘└───┘└───┘└───┘└───┘└───┘ ░  ║  ║ └╥┘\n",
            "meas: 3/════════════════════════════════════════════════════════════╩══╩══╩═\n",
            "                                                                    0  1  2 \n"
          ]
        },
        {
          "output_type": "execute_result",
          "data": {
            "text/plain": [
              "<Figure size 640x480 with 1 Axes>"
            ],
            "image/png": "[encoded data removed]"
          },
          "metadata": {},
          "execution_count": 12
        }
      ]
    },
    {
      "cell_type": "markdown",
      "source": [
        "# **Segundo escenario: Marcar el estado |011> con 4 qubits**"
      ],
      "metadata": {
        "id": "6MB-84nBEKec"
      }
    },
    {
      "cell_type": "code",
      "source": [
        "from qiskit import QuantumCircuit\n",
        "from qiskit_aer import Aer\n",
        "from qiskit import transpile\n",
        "from qiskit.visualization import plot_histogram\n",
        "\n",
        "# Crear un circuito cuántico con 4 qubits\n",
        "n = 4\n",
        "qc = QuantumCircuit(n)\n",
        "\n",
        "# Inicializar el estado de superposición\n",
        "qc.h(range(n))  # Aplicar la puerta Hadamard a todos los qubits\n",
        "\n",
        "# Crear un oráculo cuántico personalizado que marca el estado |1011>\n",
        "oracle = QuantumCircuit(n)\n",
        "\n",
        "# Configurar el oráculo: usar puertas X para transformar el estado objetivo |1011> en |1111>\n",
        "oracle.x(1)  # El qubit 1 debe estar en |0>, se invierte para controlarlo\n",
        "\n",
        "# Aplicar una puerta Z al último qubit controlada por los tres primeros\n",
        "oracle.h(3)  # Transformar el último qubit a la base Z\n",
        "oracle.mcx([0, 1, 2], 3)  # Multi-control con los tres primeros qubits\n",
        "oracle.h(3)  # Volver a la base estándar.\n",
        "\n",
        "# Deshacer las operaciones de configuración del oráculo\n",
        "oracle.x(1)\n",
        "\n",
        "#Aplicar el oráculo al circuito principal\n",
        "qc.append(oracle, range(n))\n",
        "\n",
        "# Aplicar la inversión sobre la media (operador de Grover)\n",
        "qc.h(range(n))\n",
        "qc.x(range(n))  # Aplica NOT a todos los qubits\n",
        "qc.h(n-1)       # Hadamard al último qubit\n",
        "qc.mcx(list(range(n-1)), n-1)  # Puerta multiontrolada\n",
        "qc.h(n-1)       # Deshacer Hadamard alúltimo qubit\n",
        "qc.x(range(n))  # Deshacer NOT a todos los qubits\n",
        "qc.h(range(n))\n",
        "\n",
        "# Medir los resultados\n",
        "qc.measure_all()\n",
        "\n",
        "# Mostrar el circuito\n",
        "print(qc)\n",
        "\n",
        "# Transpile el circuito para el backend\n",
        "backend = Aer.get_backend('qasm_simulator')\n",
        "transpiled_circuit = transpile(qc, backend)\n",
        "\n",
        "# Ejecutar el circuito\n",
        "job = backend.run(transpiled_circuit, shots=1024)\n",
        "\n",
        "# Obtener los resultados\n",
        "result = job.result()\n",
        "counts = result.get_counts()\n",
        "\n",
        "# Mostrar los resultados\n",
        "plot_histogram(counts)\n"
      ],
      "metadata": {
        "colab": {
          "base_uri": "https://localhost:8080/",
          "height": 645
        },
        "id": "kiDIO65FK1tH",
        "outputId": "dfb7b01f-4de5-4f66-d830-bb8c3db838b7"
      },
      "execution_count": 13,
      "outputs": [
        {
          "output_type": "stream",
          "name": "stdout",
          "text": [
            "        ┌───┐┌──────────────┐┌───┐┌───┐          ┌───┐┌───┐      ░ ┌─┐         \n",
            "   q_0: ┤ H ├┤0             ├┤ H ├┤ X ├───────■──┤ X ├┤ H ├──────░─┤M├─────────\n",
            "        ├───┤│              │├───┤├───┤       │  ├───┤├───┤      ░ └╥┘┌─┐      \n",
            "   q_1: ┤ H ├┤1             ├┤ H ├┤ X ├───────■──┤ X ├┤ H ├──────░──╫─┤M├──────\n",
            "        ├───┤│  circuit-188 │├───┤├───┤       │  ├───┤├───┤      ░  ║ └╥┘┌─┐   \n",
            "   q_2: ┤ H ├┤2             ├┤ H ├┤ X ├───────■──┤ X ├┤ H ├──────░──╫──╫─┤M├───\n",
            "        ├───┤│              │├───┤├───┤┌───┐┌─┴─┐├───┤├───┤┌───┐ ░  ║  ║ └╥┘┌─┐\n",
            "   q_3: ┤ H ├┤3             ├┤ H ├┤ X ├┤ H ├┤ X ├┤ H ├┤ X ├┤ H ├─░──╫──╫──╫─┤M├\n",
            "        └───┘└──────────────┘└───┘└───┘└───┘└───┘└───┘└───┘└───┘ ░  ║  ║  ║ └╥┘\n",
            "meas: 4/════════════════════════════════════════════════════════════╩══╩══╩══╩═\n",
            "                                                                    0  1  2  3 \n"
          ]
        },
        {
          "output_type": "execute_result",
          "data": {
            "text/plain": [
              "<Figure size 640x480 with 1 Axes>"
            ],
            "image/png": "[encoded data removed]"
          },
          "metadata": {},
          "execution_count": 13
        }
      ]
    },
    {
      "cell_type": "markdown",
      "source": [
        "# **Tercer escenario: Marcar el estado |10101> con 5 qubits**\n",
        "\n",
        "\n"
      ],
      "metadata": {
        "id": "kLEczKQgEh12"
      }
    },
    {
      "cell_type": "code",
      "source": [
        "from qiskit import QuantumCircuit\n",
        "from qiskit_aer import Aer\n",
        "from qiskit import transpile\n",
        "from qiskit.visualization import plot_histogram\n",
        "\n",
        "# Crear un circuito cuántico con 5 qubits\n",
        "n = 5\n",
        "qc = QuantumCircuit(n)\n",
        "\n",
        "# Inicializar el estado de superposición\n",
        "qc.h(range(n))  # Aplicar la puerta Hadamard a todos los qubits\n",
        "\n",
        "# Crear un oráculo cuántico personalizado que marca el estado |10101>\n",
        "oracle = QuantumCircuit(n)\n",
        "\n",
        "# Configurar el oráculo: usar puertas X para transformar el estado objetivo |10101> en |11111>\n",
        "oracle.x(1)  # Qubit 1 debe estar en |0>\n",
        "oracle.x(3)  # Qubit 3 debe estar en |0>\n",
        "\n",
        "# Aplicar una puerta Z al último qubit controlada por los demás (puerta multi-controlada)\n",
        "oracle.h(4)  # Transformar el último qubit en la base Z\n",
        "oracle.mcx([0, 1, 2, 3], 4)  # Multi-control con los 4 primeros qubits\n",
        "oracle.h(4)  # Volver a la base estándar\n",
        "\n",
        "# Deshacer las operaciones de transformación del estado\n",
        "oracle.x(1)\n",
        "oracle.x(3)\n",
        "\n",
        "# Aplicar el oráculo al circuito principal\n",
        "qc.append(oracle, range(n))\n",
        "\n",
        "# Aplicar la inversión sobre la media (operador de Grover)\n",
        "qc.h(range(n))\n",
        "qc.x(range(n))  # Aplica NOT a todos los qubits\n",
        "qc.h(n-1)       # Hadamard al último qubit\n",
        "qc.mcx(list(range(n-1)), n-1)  # Puerta controlada múltiple\n",
        "qc.h(n-1)       # Deshacer Hadamard al último qubit\n",
        "qc.x(range(n))  # Deshacer NOT a todos los qubits\n",
        "qc.h(range(n))\n",
        "\n",
        "# Medir los resultados\n",
        "qc.measure_all()\n",
        "\n",
        "# Mostrar el circuito\n",
        "print(qc)\n",
        "\n",
        "# Transpile el circuito para el backend\n",
        "backend = Aer.get_backend('qasm_simulator')\n",
        "transpiled_circuit = transpile(qc, backend)\n",
        "\n",
        "# Ejecutar el circuito\n",
        "job = backend.run(transpiled_circuit, shots=1024)\n",
        "\n",
        "# Obtener los resultados\n",
        "result = job.result()\n",
        "counts = result.get_counts()\n",
        "\n",
        "# Mostrar los resultados\n",
        "plot_histogram(counts)\n"
      ],
      "metadata": {
        "colab": {
          "base_uri": "https://localhost:8080/",
          "height": 913
        },
        "id": "7_jhL0KcC7HU",
        "outputId": "4464ae06-4899-4d91-dc03-1ee4114abdfd"
      },
      "execution_count": 11,
      "outputs": [
        {
          "output_type": "stream",
          "name": "stdout",
          "text": [
            "        ┌───┐┌──────────────┐┌───┐┌───┐          ┌───┐┌───┐      ░ ┌─┐         »\n",
            "   q_0: ┤ H ├┤0             ├┤ H ├┤ X ├───────■──┤ X ├┤ H ├──────░─┤M├─────────»\n",
            "        ├───┤│              │├───┤├───┤       │  ├───┤├───┤      ░ └╥┘┌─┐      »\n",
            "   q_1: ┤ H ├┤1             ├┤ H ├┤ X ├───────■──┤ X ├┤ H ├──────░──╫─┤M├──────»\n",
            "        ├───┤│              │├───┤├───┤       │  ├───┤├───┤      ░  ║ └╥┘┌─┐   »\n",
            "   q_2: ┤ H ├┤2 circuit-178 ├┤ H ├┤ X ├───────■──┤ X ├┤ H ├──────░──╫──╫─┤M├───»\n",
            "        ├───┤│              │├───┤├───┤       │  ├───┤├───┤      ░  ║  ║ └╥┘┌─┐»\n",
            "   q_3: ┤ H ├┤3             ├┤ H ├┤ X ├───────■──┤ X ├┤ H ├──────░──╫──╫──╫─┤M├»\n",
            "        ├───┤│              │├───┤├───┤┌───┐┌─┴─┐├───┤├───┤┌───┐ ░  ║  ║  ║ └╥┘»\n",
            "   q_4: ┤ H ├┤4             ├┤ H ├┤ X ├┤ H ├┤ X ├┤ H ├┤ X ├┤ H ├─░──╫──╫──╫──╫─»\n",
            "        └───┘└──────────────┘└───┘└───┘└───┘└───┘└───┘└───┘└───┘ ░  ║  ║  ║  ║ »\n",
            "meas: 5/════════════════════════════════════════════════════════════╩══╩══╩══╩═»\n",
            "                                                                    0  1  2  3 »\n",
            "«           \n",
            "«   q_0: ───\n",
            "«           \n",
            "«   q_1: ───\n",
            "«           \n",
            "«   q_2: ───\n",
            "«           \n",
            "«   q_3: ───\n",
            "«        ┌─┐\n",
            "«   q_4: ┤M├\n",
            "«        └╥┘\n",
            "«meas: 5/═╩═\n",
            "«         4 \n"
          ]
        },
        {
          "output_type": "execute_result",
          "data": {
            "text/plain": [
              "<Figure size 640x480 with 1 Axes>"
            ],
            "image/png": "[encoded data removed]"
          },
          "metadata": {},
          "execution_count": 11
        }
      ]
    }
  ]
}